{
 "cells": [
  {
   "cell_type": "code",
   "execution_count": 1,
   "metadata": {},
   "outputs": [],
   "source": [
    "#Import csv file from DSPM website, label column names and parse date format:\n",
    "import pandas as pd\n",
    "import datetime as dt\n",
    "sales=pd.read_csv(\"http://liacs.leidenuniv.nl/~takesfw/DSPM/data/sales.csv\", names=[\"saleId\", \"saleDateTime\", \"accountName\", \"coins\", \"currency\", \"priceInCurrency\", \"priceInEUR\", \"methodId\", \"ip\", \"ipCountry\"], parse_dates=[\"saleDateTime\"])"
   ]
  },
  {
   "cell_type": "code",
   "execution_count": 2,
   "metadata": {},
   "outputs": [],
   "source": [
    "#Sort original csv file dates\n",
    "sales = sales.sort_values([\"saleDateTime\"])\n",
    "split1 = sales['saleDateTime'] < '2015-01-01 00:00:00'\n",
    "sales14 = sales[split1]\n",
    "split2 = sales['saleDateTime'] > '2014-12-31 23:59:59'\n",
    "sales15 = sales[split2]"
   ]
  },
  {
   "cell_type": "code",
   "execution_count": 3,
   "metadata": {},
   "outputs": [],
   "source": [
    "#Define function that returns boolean that shows if frequenty of purchases goes up\n",
    "def func(x):\n",
    "    q = True\n",
    "    if x.iloc[0]['First'] < x.iloc[0]['Last']:\n",
    "        q = False\n",
    "    \n",
    "    return q"
   ]
  },
  {
   "cell_type": "code",
   "execution_count": 4,
   "metadata": {},
   "outputs": [],
   "source": [
    "#Create 'customers' DF\n",
    "customers = pd.DataFrame()\n",
    "#First feature\n",
    "customers['countries'] = sales14.groupby(\"accountName\")[\"ipCountry\"].nunique()"
   ]
  },
  {
   "cell_type": "code",
   "execution_count": null,
   "metadata": {},
   "outputs": [],
   "source": [
    "#Second feature\n",
    "customers['lifespan'] = sales14.groupby(\"accountName\")[\"saleDateTime\"].max() - sales14.groupby(\"accountName\")[\"saleDateTime\"].min()\n",
    "customers['lifespan'] = customers[\"lifespan\"].dt.total_seconds()\n"
   ]
  },
  {
   "cell_type": "code",
   "execution_count": null,
   "metadata": {},
   "outputs": [],
   "source": [
    "#Third feature\n",
    "customers['lifetime_spend'] = sales14.groupby(\"accountName\")[\"priceInEUR\"].sum()"
   ]
  },
  {
   "cell_type": "code",
   "execution_count": null,
   "metadata": {},
   "outputs": [],
   "source": [
    "#Fourth feature\n",
    "customers['lifetime_trans'] = sales14.groupby(\"accountName\")[\"saleId\"].nunique()"
   ]
  },
  {
   "cell_type": "code",
   "execution_count": null,
   "metadata": {},
   "outputs": [],
   "source": [
    "#Fifth feature\n",
    "tempx = sales14.groupby(\"accountName\")[\"ipCountry\"].value_counts()\n",
    "temp5 = tempx.groupby(\"accountName\").idxmax()\n",
    "customers['fav_country'] = pd.Series({item[0]: item[1] for item in temp5})"
   ]
  },
  {
   "cell_type": "code",
   "execution_count": null,
   "metadata": {},
   "outputs": [],
   "source": [
    "#Sixth feature\n",
    "tempy = sales14.groupby(\"accountName\")[\"methodId\"].value_counts()\n",
    "temp6 = tempy.groupby(\"accountName\").idxmax()\n",
    "customers['fav_paymethod'] = pd.Series({item[0]: item[1] for item in temp6})"
   ]
  },
  {
   "cell_type": "code",
   "execution_count": null,
   "metadata": {},
   "outputs": [],
   "source": [
    "#Seventh feature\n",
    "first = sales14.groupby(\"accountName\")[\"saleDateTime\"].nsmallest(2)\n",
    "last = sales14.groupby(\"accountName\")[\"saleDateTime\"].nlargest(2)\n",
    "df = pd.DataFrame()\n",
    "df['First'] = abs(first.diff().reset_index().groupby(\"accountName\").tail(1).set_index(\"accountName\")[\"saleDateTime\"].dt.days)\n",
    "df['Last'] = abs(last.diff().reset_index().groupby(\"accountName\").tail(1).set_index(\"accountName\")[\"saleDateTime\"].dt.days)\n",
    "customers[\"freq_growth\"] = df.groupby(\"accountName\").apply(func)\n",
    "customers[\"freq_growth\"] = customers[\"freq_growth\"].astype(int)"
   ]
  },
  {
   "cell_type": "code",
   "execution_count": null,
   "metadata": {},
   "outputs": [],
   "source": [
    "#Eighth feature\n",
    "trans_growth = {}\n",
    "for account, group in sales14.groupby('accountName')[\"priceInEUR\"]:\n",
    "    if group.shape[0] >= 2:\n",
    "        trans_growth[account] = group.head(2).sum() < group.tail(2).sum()\n",
    "customers[\"trans_growth\"] = pd.Series(trans_growth)\n",
    "\n",
    "customers[\"trans_growth\"] = customers[\"trans_growth\"].fillna(0)\n",
    "customers[\"trans_growth\"] = customers[\"trans_growth\"].astype(int)"
   ]
  },
  {
   "cell_type": "code",
   "execution_count": null,
   "metadata": {},
   "outputs": [],
   "source": [
    "#Class feature: Does the customer return, set all to false\n",
    "customers[\"class\"]= True\n",
    "loyal = {}\n",
    "for account, group in customers.groupby('accountName')[\"class\"]:\n",
    "    if (account in sales15[\"accountName\"].values):\n",
    "        loyal[account] = True\n",
    "    else:\n",
    "        loyal[account] = False\n",
    "customers[\"class\"] = pd.Series(loyal)\n",
    "customers[\"class\"] = customers[\"class\"].astype(int)\n",
    "\n",
    "customers\n"
   ]
  },
  {
   "cell_type": "code",
   "execution_count": null,
   "metadata": {},
   "outputs": [],
   "source": [
    "customers.corr()"
   ]
  },
  {
   "cell_type": "code",
   "execution_count": null,
   "metadata": {},
   "outputs": [],
   "source": []
  }
 ],
 "metadata": {
  "kernelspec": {
   "display_name": "Python 3",
   "language": "python",
   "name": "python3"
  },
  "language_info": {
   "codemirror_mode": {
    "name": "ipython",
    "version": 3
   },
   "file_extension": ".py",
   "mimetype": "text/x-python",
   "name": "python",
   "nbconvert_exporter": "python",
   "pygments_lexer": "ipython3",
   "version": "3.7.1"
  }
 },
 "nbformat": 4,
 "nbformat_minor": 2
}
