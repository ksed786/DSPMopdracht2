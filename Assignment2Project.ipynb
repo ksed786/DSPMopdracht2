{
 "cells": [
  {
   "cell_type": "code",
   "execution_count": 1,
   "metadata": {},
   "outputs": [],
   "source": [
    "#Import csv file from DSPM website, label column names and parse date format:\n",
    "import pandas as pd\n",
    "import datetime as dt\n",
    "import seaborn as sns\n",
    "import numpy as np\n",
    "from sklearn.feature_selection import SelectKBest\n",
    "from sklearn.feature_selection import chi2\n",
    "from sklearn.ensemble import ExtraTreesClassifier\n",
    "import matplotlib.pyplot as plt\n",
    "sales=pd.read_csv(\"http://liacs.leidenuniv.nl/~takesfw/DSPM/data/sales.csv\", names=[\"saleId\", \"saleDateTime\", \"accountName\", \"coins\", \"currency\", \"priceInCurrency\", \"priceInEUR\", \"methodId\", \"ip\", \"ipCountry\"], parse_dates=[\"saleDateTime\"])"
   ]
  },
  {
   "cell_type": "code",
   "execution_count": 2,
   "metadata": {},
   "outputs": [],
   "source": [
    "#Sort original csv file dates\n",
    "sales = sales.sort_values([\"saleDateTime\"])\n",
    "split1 = sales['saleDateTime'] < '2014-01-01 00:00:00'\n",
    "sales14 = sales[split1]\n",
    "split2 = sales['saleDateTime'] > '2013-12-31 23:59:59'\n",
    "sales15 = sales[split2]"
   ]
  },
  {
   "cell_type": "code",
   "execution_count": 3,
   "metadata": {},
   "outputs": [],
   "source": [
    "#Define function that returns boolean that shows if frequenty of purchases goes up\n",
    "def func(x):\n",
    "    q = True\n",
    "    if x.iloc[0]['First'] < x.iloc[0]['Last']:\n",
    "        q = False\n",
    "    \n",
    "    return q"
   ]
  },
  {
   "cell_type": "code",
   "execution_count": 4,
   "metadata": {},
   "outputs": [],
   "source": [
    "#Favorite Countries:\n",
    "sales[\"ipCountry\"].value_counts().head(5)\n",
    "fav_countries = [\"FR\",\"DE\",\"PL\",\"GP\",\"NL\"]\n",
    "sales[\"methodId\"].value_counts().head(3)\n",
    "fav_paymethods = [2000,1000,40]"
   ]
  },
  {
   "cell_type": "code",
   "execution_count": 14,
   "metadata": {},
   "outputs": [],
   "source": [
    "#Create 'customers' DF\n",
    "customers = pd.DataFrame()\n",
    "#First feature\n",
    "customers['countries'] = sales14.groupby(\"accountName\")[\"ipCountry\"].nunique()"
   ]
  },
  {
   "cell_type": "code",
   "execution_count": 15,
   "metadata": {},
   "outputs": [],
   "source": [
    "#Second feature\n",
    "customers['lifespan'] = sales14.groupby(\"accountName\")[\"saleDateTime\"].max() - sales14.groupby(\"accountName\")[\"saleDateTime\"].min()\n",
    "customers['lifespan'] = customers[\"lifespan\"].dt.total_seconds()\n"
   ]
  },
  {
   "cell_type": "code",
   "execution_count": 16,
   "metadata": {},
   "outputs": [],
   "source": [
    "#Third feature\n",
    "customers['lifetime_spend'] = sales14.groupby(\"accountName\")[\"priceInEUR\"].sum()"
   ]
  },
  {
   "cell_type": "code",
   "execution_count": 17,
   "metadata": {},
   "outputs": [],
   "source": [
    "#Fourth feature\n",
    "customers['lifetime_trans'] = sales14.groupby(\"accountName\")[\"saleId\"].nunique()"
   ]
  },
  {
   "cell_type": "code",
   "execution_count": 18,
   "metadata": {},
   "outputs": [],
   "source": [
    "#Fifth feature\n",
    "tempx = sales14.groupby(\"accountName\")[\"ipCountry\"].value_counts()\n",
    "temp5 = tempx.groupby(\"accountName\").idxmax()\n",
    "\n",
    "customers['fav_country'] = pd.Series({item[0]: item[1] for item in temp5}).isin(fav_countries)\n",
    "customers['fav_country'] = customers['fav_country'].fillna(0)\n",
    "customers['fav_country'] = customers['fav_country'].astype(int)"
   ]
  },
  {
   "cell_type": "code",
   "execution_count": 19,
   "metadata": {},
   "outputs": [],
   "source": [
    "#Sixth feature\n",
    "tempy = sales14.groupby(\"accountName\")[\"methodId\"].value_counts()\n",
    "temp6 = tempy.groupby(\"accountName\").idxmax()\n",
    "customers['fav_paymethod'] = pd.Series({item[0]: item[1] for item in temp6}).isin(fav_paymethods)\n",
    "customers['fav_paymethod'] = customers['fav_paymethod'].fillna(0)\n",
    "customers['fav_paymethod'] = customers['fav_paymethod'].astype(int)"
   ]
  },
  {
   "cell_type": "code",
   "execution_count": 20,
   "metadata": {},
   "outputs": [],
   "source": [
    "#Seventh feature\n",
    "first = sales14.groupby(\"accountName\")[\"saleDateTime\"].nsmallest(2)\n",
    "last = sales14.groupby(\"accountName\")[\"saleDateTime\"].nlargest(2)\n",
    "df = pd.DataFrame()\n",
    "df['First'] = abs(first.diff().reset_index().groupby(\"accountName\").tail(1).set_index(\"accountName\")[\"saleDateTime\"].dt.days)\n",
    "df['Last'] = abs(last.diff().reset_index().groupby(\"accountName\").tail(1).set_index(\"accountName\")[\"saleDateTime\"].dt.days)\n",
    "customers[\"freq_growth\"] = df.groupby(\"accountName\").apply(func)\n",
    "customers[\"freq_growth\"] = customers[\"freq_growth\"].astype(int)"
   ]
  },
  {
   "cell_type": "code",
   "execution_count": 21,
   "metadata": {},
   "outputs": [],
   "source": [
    "#Eighth feature\n",
    "trans_growth = {}\n",
    "for account, group in sales14.groupby('accountName')[\"priceInEUR\"]:\n",
    "    if group.shape[0] >= 2:\n",
    "        trans_growth[account] = group.head(2).sum() < group.tail(2).sum()\n",
    "customers[\"trans_growth\"] = pd.Series(trans_growth)\n",
    "\n",
    "customers[\"trans_growth\"] = customers[\"trans_growth\"].fillna(0)\n",
    "customers[\"trans_growth\"] = customers[\"trans_growth\"].astype(int)"
   ]
  },
  {
   "cell_type": "code",
   "execution_count": 22,
   "metadata": {},
   "outputs": [],
   "source": [
    "#Class feature: Does the customer return, set all to false\n",
    "loyal = {}\n",
    "customers[\"class\"] = True\n",
    "for account, group in customers.groupby('accountName')[\"class\"]:\n",
    "    if (account in sales15[\"accountName\"].values):\n",
    "        loyal[account] = True\n",
    "    else:\n",
    "        loyal[account] = False\n",
    "customers[\"class\"] = pd.Series(loyal)\n",
    "customers[\"class\"] = customers[\"class\"].astype(int)\n",
    "\n",
    "#customers"
   ]
  },
  {
   "cell_type": "code",
   "execution_count": 23,
   "metadata": {},
   "outputs": [
    {
     "data": {
      "text/html": [
       "<div>\n",
       "<style scoped>\n",
       "    .dataframe tbody tr th:only-of-type {\n",
       "        vertical-align: middle;\n",
       "    }\n",
       "\n",
       "    .dataframe tbody tr th {\n",
       "        vertical-align: top;\n",
       "    }\n",
       "\n",
       "    .dataframe thead th {\n",
       "        text-align: right;\n",
       "    }\n",
       "</style>\n",
       "<table border=\"1\" class=\"dataframe\">\n",
       "  <thead>\n",
       "    <tr style=\"text-align: right;\">\n",
       "      <th></th>\n",
       "      <th>countries</th>\n",
       "      <th>lifespan</th>\n",
       "      <th>lifetime_spend</th>\n",
       "      <th>lifetime_trans</th>\n",
       "      <th>fav_country</th>\n",
       "      <th>fav_paymethod</th>\n",
       "      <th>freq_growth</th>\n",
       "      <th>trans_growth</th>\n",
       "      <th>class</th>\n",
       "    </tr>\n",
       "  </thead>\n",
       "  <tbody>\n",
       "    <tr>\n",
       "      <th>countries</th>\n",
       "      <td>1.000000</td>\n",
       "      <td>0.120854</td>\n",
       "      <td>0.161716</td>\n",
       "      <td>0.294982</td>\n",
       "      <td>0.001643</td>\n",
       "      <td>0.070054</td>\n",
       "      <td>-0.077231</td>\n",
       "      <td>0.143533</td>\n",
       "      <td>0.074937</td>\n",
       "    </tr>\n",
       "    <tr>\n",
       "      <th>lifespan</th>\n",
       "      <td>0.120854</td>\n",
       "      <td>1.000000</td>\n",
       "      <td>0.452776</td>\n",
       "      <td>0.344214</td>\n",
       "      <td>0.018446</td>\n",
       "      <td>-0.010099</td>\n",
       "      <td>-0.106917</td>\n",
       "      <td>0.215608</td>\n",
       "      <td>0.195295</td>\n",
       "    </tr>\n",
       "    <tr>\n",
       "      <th>lifetime_spend</th>\n",
       "      <td>0.161716</td>\n",
       "      <td>0.452776</td>\n",
       "      <td>1.000000</td>\n",
       "      <td>0.654994</td>\n",
       "      <td>0.012161</td>\n",
       "      <td>-0.038620</td>\n",
       "      <td>-0.104264</td>\n",
       "      <td>0.209986</td>\n",
       "      <td>0.123900</td>\n",
       "    </tr>\n",
       "    <tr>\n",
       "      <th>lifetime_trans</th>\n",
       "      <td>0.294982</td>\n",
       "      <td>0.344214</td>\n",
       "      <td>0.654994</td>\n",
       "      <td>1.000000</td>\n",
       "      <td>0.015811</td>\n",
       "      <td>0.087585</td>\n",
       "      <td>-0.136387</td>\n",
       "      <td>0.196263</td>\n",
       "      <td>0.157330</td>\n",
       "    </tr>\n",
       "    <tr>\n",
       "      <th>fav_country</th>\n",
       "      <td>0.001643</td>\n",
       "      <td>0.018446</td>\n",
       "      <td>0.012161</td>\n",
       "      <td>0.015811</td>\n",
       "      <td>1.000000</td>\n",
       "      <td>-0.102098</td>\n",
       "      <td>0.002590</td>\n",
       "      <td>0.059717</td>\n",
       "      <td>0.084557</td>\n",
       "    </tr>\n",
       "    <tr>\n",
       "      <th>fav_paymethod</th>\n",
       "      <td>0.070054</td>\n",
       "      <td>-0.010099</td>\n",
       "      <td>-0.038620</td>\n",
       "      <td>0.087585</td>\n",
       "      <td>-0.102098</td>\n",
       "      <td>1.000000</td>\n",
       "      <td>-0.040901</td>\n",
       "      <td>0.018092</td>\n",
       "      <td>0.052796</td>\n",
       "    </tr>\n",
       "    <tr>\n",
       "      <th>freq_growth</th>\n",
       "      <td>-0.077231</td>\n",
       "      <td>-0.106917</td>\n",
       "      <td>-0.104264</td>\n",
       "      <td>-0.136387</td>\n",
       "      <td>0.002590</td>\n",
       "      <td>-0.040901</td>\n",
       "      <td>1.000000</td>\n",
       "      <td>-0.149283</td>\n",
       "      <td>-0.032929</td>\n",
       "    </tr>\n",
       "    <tr>\n",
       "      <th>trans_growth</th>\n",
       "      <td>0.143533</td>\n",
       "      <td>0.215608</td>\n",
       "      <td>0.209986</td>\n",
       "      <td>0.196263</td>\n",
       "      <td>0.059717</td>\n",
       "      <td>0.018092</td>\n",
       "      <td>-0.149283</td>\n",
       "      <td>1.000000</td>\n",
       "      <td>0.105978</td>\n",
       "    </tr>\n",
       "    <tr>\n",
       "      <th>class</th>\n",
       "      <td>0.074937</td>\n",
       "      <td>0.195295</td>\n",
       "      <td>0.123900</td>\n",
       "      <td>0.157330</td>\n",
       "      <td>0.084557</td>\n",
       "      <td>0.052796</td>\n",
       "      <td>-0.032929</td>\n",
       "      <td>0.105978</td>\n",
       "      <td>1.000000</td>\n",
       "    </tr>\n",
       "  </tbody>\n",
       "</table>\n",
       "</div>"
      ],
      "text/plain": [
       "                countries  lifespan  lifetime_spend  lifetime_trans  \\\n",
       "countries        1.000000  0.120854        0.161716        0.294982   \n",
       "lifespan         0.120854  1.000000        0.452776        0.344214   \n",
       "lifetime_spend   0.161716  0.452776        1.000000        0.654994   \n",
       "lifetime_trans   0.294982  0.344214        0.654994        1.000000   \n",
       "fav_country      0.001643  0.018446        0.012161        0.015811   \n",
       "fav_paymethod    0.070054 -0.010099       -0.038620        0.087585   \n",
       "freq_growth     -0.077231 -0.106917       -0.104264       -0.136387   \n",
       "trans_growth     0.143533  0.215608        0.209986        0.196263   \n",
       "class            0.074937  0.195295        0.123900        0.157330   \n",
       "\n",
       "                fav_country  fav_paymethod  freq_growth  trans_growth  \\\n",
       "countries          0.001643       0.070054    -0.077231      0.143533   \n",
       "lifespan           0.018446      -0.010099    -0.106917      0.215608   \n",
       "lifetime_spend     0.012161      -0.038620    -0.104264      0.209986   \n",
       "lifetime_trans     0.015811       0.087585    -0.136387      0.196263   \n",
       "fav_country        1.000000      -0.102098     0.002590      0.059717   \n",
       "fav_paymethod     -0.102098       1.000000    -0.040901      0.018092   \n",
       "freq_growth        0.002590      -0.040901     1.000000     -0.149283   \n",
       "trans_growth       0.059717       0.018092    -0.149283      1.000000   \n",
       "class              0.084557       0.052796    -0.032929      0.105978   \n",
       "\n",
       "                   class  \n",
       "countries       0.074937  \n",
       "lifespan        0.195295  \n",
       "lifetime_spend  0.123900  \n",
       "lifetime_trans  0.157330  \n",
       "fav_country     0.084557  \n",
       "fav_paymethod   0.052796  \n",
       "freq_growth    -0.032929  \n",
       "trans_growth    0.105978  \n",
       "class           1.000000  "
      ]
     },
     "execution_count": 23,
     "metadata": {},
     "output_type": "execute_result"
    },
    {
     "data": {
      "image/png": "[encoded data removed]",
      "text/plain": [
       "<Figure size 432x288 with 2 Axes>"
      ]
     },
     "metadata": {
      "needs_background": "light"
     },
     "output_type": "display_data"
    }
   ],
   "source": [
    "#Finding the 'best' features, based on insight of a correlation matrix, Chi squared method and inbuilt class feature_importances of tree based classifiers\n",
    "#First correlation matrix\n",
    "corr = customers.corr()\n",
    "sns.heatmap(corr, \n",
    "            xticklabels=corr.columns.values,\n",
    "            yticklabels=corr.columns.values)\n",
    "corr"
   ]
  },
  {
   "cell_type": "code",
   "execution_count": 24,
   "metadata": {},
   "outputs": [
    {
     "name": "stdout",
     "output_type": "stream",
     "text": [
      "            Specs         Score\n",
      "1        lifespan  4.658707e+10\n",
      "2  lifetime_spend  1.954931e+05\n",
      "3  lifetime_trans  4.831898e+04\n"
     ]
    }
   ],
   "source": [
    "#Secondly show best features based on Chi2 selector\n",
    "data = customers\n",
    "X = customers.iloc[:,0:8]  #independent features\n",
    "Y = customers.iloc[:,-1]   #target feature: class\n",
    "#apply SelectKBest class to extract top 3 best features\n",
    "bestfeatures = SelectKBest(score_func=chi2, k=3)\n",
    "fit = bestfeatures.fit(X,Y)\n",
    "dfscores = pd.DataFrame(fit.scores_)\n",
    "dfcolumns = pd.DataFrame(X.columns)\n",
    "#concat two dataframes for better visualization \n",
    "featureScores = pd.concat([dfcolumns,dfscores],axis=1)\n",
    "featureScores.columns = ['Specs','Score']  #naming the dataframe columns\n",
    "print(featureScores.nlargest(3,'Score'))  #print 3 best features\n"
   ]
  },
  {
   "cell_type": "code",
   "execution_count": 25,
   "metadata": {},
   "outputs": [
    {
     "name": "stderr",
     "output_type": "stream",
     "text": [
      "/home/twumi/anaconda3/lib/python3.7/site-packages/sklearn/ensemble/forest.py:246: FutureWarning: The default value of n_estimators will change from 10 in version 0.20 to 100 in 0.22.\n",
      "  \"10 in version 0.20 to 100 in 0.22.\", FutureWarning)\n"
     ]
    },
    {
     "name": "stdout",
     "output_type": "stream",
     "text": [
      "[0.01265318 0.43419574 0.3243661  0.1928304  0.01104455 0.00767188\n",
      " 0.00502089 0.01221726]\n"
     ]
    },
    {
     "data": {
      "image/png": "[encoded data removed]",
      "text/plain": [
       "<Figure size 432x288 with 1 Axes>"
      ]
     },
     "metadata": {
      "needs_background": "light"
     },
     "output_type": "display_data"
    }
   ],
   "source": [
    "#Show best features based on the scilearn inbuilt feature importance classifier\n",
    "model = ExtraTreesClassifier()\n",
    "model.fit(X,Y)\n",
    "print(model.feature_importances_) #use inbuilt class feature_importances of tree based classifiers\n",
    "#plot graph of feature importances for better visualization\n",
    "feat_importances = pd.Series(model.feature_importances_, index=X.columns)\n",
    "feat_importances.nlargest(3).plot(kind='barh')\n",
    "plt.show()"
   ]
  },
  {
   "cell_type": "code",
   "execution_count": 28,
   "metadata": {},
   "outputs": [
    {
     "name": "stdout",
     "output_type": "stream",
     "text": [
      "Computing regularization path ...\n",
      "This took 2.425s\n"
     ]
    },
    {
     "data": {
      "image/png": "[encoded data removed]",
      "text/plain": [
       "<Figure size 432x288 with 1 Axes>"
      ]
     },
     "metadata": {
      "needs_background": "light"
     },
     "output_type": "display_data"
    }
   ],
   "source": [
    "from time import time\n",
    "import numpy as np\n",
    "import matplotlib.pyplot as plt\n",
    "\n",
    "from sklearn import linear_model\n",
    "from sklearn import datasets\n",
    "from sklearn.svm import l1_min_c\n",
    "\n",
    "#set data to most important\n",
    "X = customers.iloc[:,1:4]  #independent features\n",
    "y = customers.iloc[:,-1]   #target feature: class\n",
    "\n",
    "X /= X.max()  # Normalize X to speed-up convergence\n",
    "\n",
    "cs = l1_min_c(X, Y, loss='log') * np.logspace(0, 7, 16)\n",
    "\n",
    "\n",
    "print(\"Computing regularization path ...\")\n",
    "start = time()\n",
    "clf = linear_model.LogisticRegression(penalty='l1', solver='saga',\n",
    "                                      tol=1e-6, max_iter=int(1e6),\n",
    "                                      warm_start=True)\n",
    "coefs_ = []\n",
    "for c in cs:\n",
    "    clf.set_params(C=c)\n",
    "    clf.fit(X, y)\n",
    "    coefs_.append(clf.coef_.ravel().copy())\n",
    "print(\"This took %0.3fs\" % (time() - start))\n",
    "\n",
    "coefs_ = np.array(coefs_)\n",
    "plt.plot(np.log10(cs), coefs_, marker='o')\n",
    "ymin, ymax = plt.ylim()\n",
    "plt.xlabel('log(C)')\n",
    "plt.ylabel('Coefficients')\n",
    "plt.title('Logistic Regression Path')\n",
    "plt.axis('tight')\n",
    "plt.show()"
   ]
  },
  {
   "cell_type": "code",
   "execution_count": 72,
   "metadata": {},
   "outputs": [
    {
     "data": {
      "image/svg+xml": [
       "<?xml version=\"1.0\" encoding=\"UTF-8\" standalone=\"no\"?>\n",
       "<!DOCTYPE svg PUBLIC \"-//W3C//DTD SVG 1.1//EN\"\n",
       " \"http://www.w3.org/Graphics/SVG/1.1/DTD/svg11.dtd\">\n",
       "<!-- Generated by graphviz version 2.40.1 (20161225.0304)\n",
       " -->\n",
       "<!-- Title: Tree Pages: 1 -->\n",
       "<svg width=\"1222pt\" height=\"361pt\"\n",
       " viewBox=\"0.00 0.00 1222.00 361.00\" xmlns=\"http://www.w3.org/2000/svg\" xmlns:xlink=\"http://www.w3.org/1999/xlink\">\n",
       "<g id=\"graph0\" class=\"graph\" transform=\"scale(1 1) rotate(0) translate(4 357)\">\n",
       "<title>Tree</title>\n",
       "<polygon fill=\"#ffffff\" stroke=\"transparent\" points=\"-4,4 -4,-357 1218,-357 1218,4 -4,4\"/>\n",
       "<!-- 0 -->\n",
       "<g id=\"node1\" class=\"node\">\n",
       "<title>0</title>\n",
       "<path fill=\"#e58139\" fill-opacity=\"0.843137\" stroke=\"#000000\" d=\"M660.5,-353C660.5,-353 537.5,-353 537.5,-353 531.5,-353 525.5,-347 525.5,-341 525.5,-341 525.5,-301 525.5,-301 525.5,-295 531.5,-289 537.5,-289 537.5,-289 660.5,-289 660.5,-289 666.5,-289 672.5,-295 672.5,-301 672.5,-301 672.5,-341 672.5,-341 672.5,-347 666.5,-353 660.5,-353\"/>\n",
       "<text text-anchor=\"start\" x=\"573\" y=\"-338.8\" font-family=\"Helvetica,sans-Serif\" font-size=\"14.00\" fill=\"#000000\">X</text>\n",
       "<text text-anchor=\"start\" x=\"583\" y=\"-338.8\" font-family=\"Helvetica,sans-Serif\" baseline-shift=\"sub\" font-size=\"14.00\" fill=\"#000000\">1</text>\n",
       "<text text-anchor=\"start\" x=\"590\" y=\"-338.8\" font-family=\"Helvetica,sans-Serif\" font-size=\"14.00\" fill=\"#000000\"> ≤ 4.5</text>\n",
       "<text text-anchor=\"start\" x=\"551.5\" y=\"-324.8\" font-family=\"Helvetica,sans-Serif\" font-size=\"14.00\" fill=\"#000000\">entropy = 0.575</text>\n",
       "<text text-anchor=\"start\" x=\"546.5\" y=\"-310.8\" font-family=\"Helvetica,sans-Serif\" font-size=\"14.00\" fill=\"#000000\">samples = 46047</text>\n",
       "<text text-anchor=\"start\" x=\"533.5\" y=\"-296.8\" font-family=\"Helvetica,sans-Serif\" font-size=\"14.00\" fill=\"#000000\">value = [39769, 6278]</text>\n",
       "</g>\n",
       "<!-- 1 -->\n",
       "<g id=\"node2\" class=\"node\">\n",
       "<title>1</title>\n",
       "<path fill=\"#e58139\" fill-opacity=\"0.909804\" stroke=\"#000000\" d=\"M510.5,-253C510.5,-253 387.5,-253 387.5,-253 381.5,-253 375.5,-247 375.5,-241 375.5,-241 375.5,-201 375.5,-201 375.5,-195 381.5,-189 387.5,-189 387.5,-189 510.5,-189 510.5,-189 516.5,-189 522.5,-195 522.5,-201 522.5,-201 522.5,-241 522.5,-241 522.5,-247 516.5,-253 510.5,-253\"/>\n",
       "<text text-anchor=\"start\" x=\"423\" y=\"-238.8\" font-family=\"Helvetica,sans-Serif\" font-size=\"14.00\" fill=\"#000000\">X</text>\n",
       "<text text-anchor=\"start\" x=\"433\" y=\"-238.8\" font-family=\"Helvetica,sans-Serif\" baseline-shift=\"sub\" font-size=\"14.00\" fill=\"#000000\">1</text>\n",
       "<text text-anchor=\"start\" x=\"440\" y=\"-238.8\" font-family=\"Helvetica,sans-Serif\" font-size=\"14.00\" fill=\"#000000\"> ≤ 1.5</text>\n",
       "<text text-anchor=\"start\" x=\"401.5\" y=\"-224.8\" font-family=\"Helvetica,sans-Serif\" font-size=\"14.00\" fill=\"#000000\">entropy = 0.414</text>\n",
       "<text text-anchor=\"start\" x=\"396.5\" y=\"-210.8\" font-family=\"Helvetica,sans-Serif\" font-size=\"14.00\" fill=\"#000000\">samples = 29515</text>\n",
       "<text text-anchor=\"start\" x=\"383.5\" y=\"-196.8\" font-family=\"Helvetica,sans-Serif\" font-size=\"14.00\" fill=\"#000000\">value = [27054, 2461]</text>\n",
       "</g>\n",
       "<!-- 0&#45;&gt;1 -->\n",
       "<g id=\"edge1\" class=\"edge\">\n",
       "<title>0&#45;&gt;1</title>\n",
       "<path fill=\"none\" stroke=\"#000000\" d=\"M550.7134,-288.8089C536.3948,-279.2632 520.5819,-268.7213 505.7774,-258.8516\"/>\n",
       "<polygon fill=\"#000000\" stroke=\"#000000\" points=\"507.4581,-255.7656 497.1961,-253.1308 503.5752,-261.59 507.4581,-255.7656\"/>\n",
       "<text text-anchor=\"middle\" x=\"501.1185\" y=\"-269.0424\" font-family=\"Helvetica,sans-Serif\" font-size=\"14.00\" fill=\"#000000\">True</text>\n",
       "</g>\n",
       "<!-- 2 -->\n",
       "<g id=\"node9\" class=\"node\">\n",
       "<title>2</title>\n",
       "<path fill=\"#e58139\" fill-opacity=\"0.698039\" stroke=\"#000000\" d=\"M816.5,-253C816.5,-253 693.5,-253 693.5,-253 687.5,-253 681.5,-247 681.5,-241 681.5,-241 681.5,-201 681.5,-201 681.5,-195 687.5,-189 693.5,-189 693.5,-189 816.5,-189 816.5,-189 822.5,-189 828.5,-195 828.5,-201 828.5,-201 828.5,-241 828.5,-241 828.5,-247 822.5,-253 816.5,-253\"/>\n",
       "<text text-anchor=\"start\" x=\"729\" y=\"-238.8\" font-family=\"Helvetica,sans-Serif\" font-size=\"14.00\" fill=\"#000000\">X</text>\n",
       "<text text-anchor=\"start\" x=\"739\" y=\"-238.8\" font-family=\"Helvetica,sans-Serif\" baseline-shift=\"sub\" font-size=\"14.00\" fill=\"#000000\">2</text>\n",
       "<text text-anchor=\"start\" x=\"746\" y=\"-238.8\" font-family=\"Helvetica,sans-Serif\" font-size=\"14.00\" fill=\"#000000\"> ≤ 0.5</text>\n",
       "<text text-anchor=\"start\" x=\"711\" y=\"-224.8\" font-family=\"Helvetica,sans-Serif\" font-size=\"14.00\" fill=\"#000000\">entropy = 0.78</text>\n",
       "<text text-anchor=\"start\" x=\"702.5\" y=\"-210.8\" font-family=\"Helvetica,sans-Serif\" font-size=\"14.00\" fill=\"#000000\">samples = 16532</text>\n",
       "<text text-anchor=\"start\" x=\"689.5\" y=\"-196.8\" font-family=\"Helvetica,sans-Serif\" font-size=\"14.00\" fill=\"#000000\">value = [12715, 3817]</text>\n",
       "</g>\n",
       "<!-- 0&#45;&gt;2 -->\n",
       "<g id=\"edge8\" class=\"edge\">\n",
       "<title>0&#45;&gt;2</title>\n",
       "<path fill=\"none\" stroke=\"#000000\" d=\"M649.2181,-288.8089C664.2486,-279.174 680.8624,-268.5241 696.3829,-258.575\"/>\n",
       "<polygon fill=\"#000000\" stroke=\"#000000\" points=\"698.3461,-261.474 704.876,-253.1308 694.5684,-255.5809 698.3461,-261.474\"/>\n",
       "<text text-anchor=\"middle\" x=\"700.6021\" y=\"-268.9688\" font-family=\"Helvetica,sans-Serif\" font-size=\"14.00\" fill=\"#000000\">False</text>\n",
       "</g>\n",
       "<!-- 3 -->\n",
       "<g id=\"node3\" class=\"node\">\n",
       "<title>3</title>\n",
       "<path fill=\"#e58139\" fill-opacity=\"0.937255\" stroke=\"#000000\" d=\"M278,-153C278,-153 162,-153 162,-153 156,-153 150,-147 150,-141 150,-141 150,-101 150,-101 150,-95 156,-89 162,-89 162,-89 278,-89 278,-89 284,-89 290,-95 290,-101 290,-101 290,-141 290,-141 290,-147 284,-153 278,-153\"/>\n",
       "<text text-anchor=\"start\" x=\"194\" y=\"-138.8\" font-family=\"Helvetica,sans-Serif\" font-size=\"14.00\" fill=\"#000000\">X</text>\n",
       "<text text-anchor=\"start\" x=\"204\" y=\"-138.8\" font-family=\"Helvetica,sans-Serif\" baseline-shift=\"sub\" font-size=\"14.00\" fill=\"#000000\">4</text>\n",
       "<text text-anchor=\"start\" x=\"211\" y=\"-138.8\" font-family=\"Helvetica,sans-Serif\" font-size=\"14.00\" fill=\"#000000\"> ≤ 0.5</text>\n",
       "<text text-anchor=\"start\" x=\"176\" y=\"-124.8\" font-family=\"Helvetica,sans-Serif\" font-size=\"14.00\" fill=\"#000000\">entropy = 0.32</text>\n",
       "<text text-anchor=\"start\" x=\"167.5\" y=\"-110.8\" font-family=\"Helvetica,sans-Serif\" font-size=\"14.00\" fill=\"#000000\">samples = 16188</text>\n",
       "<text text-anchor=\"start\" x=\"158\" y=\"-96.8\" font-family=\"Helvetica,sans-Serif\" font-size=\"14.00\" fill=\"#000000\">value = [15245, 943]</text>\n",
       "</g>\n",
       "<!-- 1&#45;&gt;3 -->\n",
       "<g id=\"edge2\" class=\"edge\">\n",
       "<title>1&#45;&gt;3</title>\n",
       "<path fill=\"none\" stroke=\"#000000\" d=\"M375.5981,-188.9467C351.3533,-178.3595 324.274,-166.5345 299.5887,-155.7549\"/>\n",
       "<polygon fill=\"#000000\" stroke=\"#000000\" points=\"300.8209,-152.4739 290.2559,-151.6794 298.0195,-158.8889 300.8209,-152.4739\"/>\n",
       "</g>\n",
       "<!-- 4 -->\n",
       "<g id=\"node6\" class=\"node\">\n",
       "<title>4</title>\n",
       "<path fill=\"#e58139\" fill-opacity=\"0.870588\" stroke=\"#000000\" d=\"M510.5,-153C510.5,-153 387.5,-153 387.5,-153 381.5,-153 375.5,-147 375.5,-141 375.5,-141 375.5,-101 375.5,-101 375.5,-95 381.5,-89 387.5,-89 387.5,-89 510.5,-89 510.5,-89 516.5,-89 522.5,-95 522.5,-101 522.5,-101 522.5,-141 522.5,-141 522.5,-147 516.5,-153 510.5,-153\"/>\n",
       "<text text-anchor=\"start\" x=\"423\" y=\"-138.8\" font-family=\"Helvetica,sans-Serif\" font-size=\"14.00\" fill=\"#000000\">X</text>\n",
       "<text text-anchor=\"start\" x=\"433\" y=\"-138.8\" font-family=\"Helvetica,sans-Serif\" baseline-shift=\"sub\" font-size=\"14.00\" fill=\"#000000\">2</text>\n",
       "<text text-anchor=\"start\" x=\"440\" y=\"-138.8\" font-family=\"Helvetica,sans-Serif\" font-size=\"14.00\" fill=\"#000000\"> ≤ 0.5</text>\n",
       "<text text-anchor=\"start\" x=\"401.5\" y=\"-124.8\" font-family=\"Helvetica,sans-Serif\" font-size=\"14.00\" fill=\"#000000\">entropy = 0.512</text>\n",
       "<text text-anchor=\"start\" x=\"396.5\" y=\"-110.8\" font-family=\"Helvetica,sans-Serif\" font-size=\"14.00\" fill=\"#000000\">samples = 13327</text>\n",
       "<text text-anchor=\"start\" x=\"383.5\" y=\"-96.8\" font-family=\"Helvetica,sans-Serif\" font-size=\"14.00\" fill=\"#000000\">value = [11809, 1518]</text>\n",
       "</g>\n",
       "<!-- 1&#45;&gt;4 -->\n",
       "<g id=\"edge5\" class=\"edge\">\n",
       "<title>1&#45;&gt;4</title>\n",
       "<path fill=\"none\" stroke=\"#000000\" d=\"M449,-188.8089C449,-180.6906 449,-171.8517 449,-163.3186\"/>\n",
       "<polygon fill=\"#000000\" stroke=\"#000000\" points=\"452.5001,-163.1307 449,-153.1308 445.5001,-163.1308 452.5001,-163.1307\"/>\n",
       "</g>\n",
       "<!-- 9 -->\n",
       "<g id=\"node4\" class=\"node\">\n",
       "<title>9</title>\n",
       "<path fill=\"#e58139\" fill-opacity=\"0.968627\" stroke=\"#000000\" d=\"M120,-53C120,-53 12,-53 12,-53 6,-53 0,-47 0,-41 0,-41 0,-12 0,-12 0,-6 6,0 12,0 12,0 120,0 120,0 126,0 132,-6 132,-12 132,-12 132,-41 132,-41 132,-47 126,-53 120,-53\"/>\n",
       "<text text-anchor=\"start\" x=\"18.5\" y=\"-37.8\" font-family=\"Helvetica,sans-Serif\" font-size=\"14.00\" fill=\"#000000\">entropy = 0.192</text>\n",
       "<text text-anchor=\"start\" x=\"17.5\" y=\"-22.8\" font-family=\"Helvetica,sans-Serif\" font-size=\"14.00\" fill=\"#000000\">samples = 3925</text>\n",
       "<text text-anchor=\"start\" x=\"8\" y=\"-7.8\" font-family=\"Helvetica,sans-Serif\" font-size=\"14.00\" fill=\"#000000\">value = [3809, 116]</text>\n",
       "</g>\n",
       "<!-- 3&#45;&gt;9 -->\n",
       "<g id=\"edge3\" class=\"edge\">\n",
       "<title>3&#45;&gt;9</title>\n",
       "<path fill=\"none\" stroke=\"#000000\" d=\"M167.4327,-88.7428C151.5525,-78.9981 134.1256,-68.3043 118.2652,-58.5718\"/>\n",
       "<polygon fill=\"#000000\" stroke=\"#000000\" points=\"119.9886,-55.5229 109.6347,-53.2759 116.3274,-61.4892 119.9886,-55.5229\"/>\n",
       "</g>\n",
       "<!-- 10 -->\n",
       "<g id=\"node5\" class=\"node\">\n",
       "<title>10</title>\n",
       "<path fill=\"#e58139\" fill-opacity=\"0.929412\" stroke=\"#000000\" d=\"M278,-53C278,-53 162,-53 162,-53 156,-53 150,-47 150,-41 150,-41 150,-12 150,-12 150,-6 156,0 162,0 162,0 278,0 278,0 284,0 290,-6 290,-12 290,-12 290,-41 290,-41 290,-47 284,-53 278,-53\"/>\n",
       "<text text-anchor=\"start\" x=\"172.5\" y=\"-37.8\" font-family=\"Helvetica,sans-Serif\" font-size=\"14.00\" fill=\"#000000\">entropy = 0.356</text>\n",
       "<text text-anchor=\"start\" x=\"167.5\" y=\"-22.8\" font-family=\"Helvetica,sans-Serif\" font-size=\"14.00\" fill=\"#000000\">samples = 12263</text>\n",
       "<text text-anchor=\"start\" x=\"158\" y=\"-7.8\" font-family=\"Helvetica,sans-Serif\" font-size=\"14.00\" fill=\"#000000\">value = [11436, 827]</text>\n",
       "</g>\n",
       "<!-- 3&#45;&gt;10 -->\n",
       "<g id=\"edge4\" class=\"edge\">\n",
       "<title>3&#45;&gt;10</title>\n",
       "<path fill=\"none\" stroke=\"#000000\" d=\"M220,-88.7428C220,-80.6222 220,-71.8426 220,-63.5093\"/>\n",
       "<polygon fill=\"#000000\" stroke=\"#000000\" points=\"223.5001,-63.2758 220,-53.2759 216.5001,-63.2759 223.5001,-63.2758\"/>\n",
       "</g>\n",
       "<!-- 13 -->\n",
       "<g id=\"node7\" class=\"node\">\n",
       "<title>13</title>\n",
       "<path fill=\"#e58139\" fill-opacity=\"0.898039\" stroke=\"#000000\" d=\"M428,-53C428,-53 320,-53 320,-53 314,-53 308,-47 308,-41 308,-41 308,-12 308,-12 308,-6 314,0 320,0 320,0 428,0 428,0 434,0 440,-6 440,-12 440,-12 440,-41 440,-41 440,-47 434,-53 428,-53\"/>\n",
       "<text text-anchor=\"start\" x=\"326.5\" y=\"-37.8\" font-family=\"Helvetica,sans-Serif\" font-size=\"14.00\" fill=\"#000000\">entropy = 0.441</text>\n",
       "<text text-anchor=\"start\" x=\"325.5\" y=\"-22.8\" font-family=\"Helvetica,sans-Serif\" font-size=\"14.00\" fill=\"#000000\">samples = 5488</text>\n",
       "<text text-anchor=\"start\" x=\"316\" y=\"-7.8\" font-family=\"Helvetica,sans-Serif\" font-size=\"14.00\" fill=\"#000000\">value = [4987, 501]</text>\n",
       "</g>\n",
       "<!-- 4&#45;&gt;13 -->\n",
       "<g id=\"edge6\" class=\"edge\">\n",
       "<title>4&#45;&gt;13</title>\n",
       "<path fill=\"none\" stroke=\"#000000\" d=\"M423.399,-88.7428C416.3813,-79.9004 408.7433,-70.2765 401.6178,-61.2985\"/>\n",
       "<polygon fill=\"#000000\" stroke=\"#000000\" points=\"404.2088,-58.933 395.2507,-53.2759 398.7258,-63.2846 404.2088,-58.933\"/>\n",
       "</g>\n",
       "<!-- 14 -->\n",
       "<g id=\"node8\" class=\"node\">\n",
       "<title>14</title>\n",
       "<path fill=\"#e58139\" fill-opacity=\"0.850980\" stroke=\"#000000\" d=\"M586,-53C586,-53 470,-53 470,-53 464,-53 458,-47 458,-41 458,-41 458,-12 458,-12 458,-6 464,0 470,0 470,0 586,0 586,0 592,0 598,-6 598,-12 598,-12 598,-41 598,-41 598,-47 592,-53 586,-53\"/>\n",
       "<text text-anchor=\"start\" x=\"480.5\" y=\"-37.8\" font-family=\"Helvetica,sans-Serif\" font-size=\"14.00\" fill=\"#000000\">entropy = 0.557</text>\n",
       "<text text-anchor=\"start\" x=\"479.5\" y=\"-22.8\" font-family=\"Helvetica,sans-Serif\" font-size=\"14.00\" fill=\"#000000\">samples = 7839</text>\n",
       "<text text-anchor=\"start\" x=\"466\" y=\"-7.8\" font-family=\"Helvetica,sans-Serif\" font-size=\"14.00\" fill=\"#000000\">value = [6822, 1017]</text>\n",
       "</g>\n",
       "<!-- 4&#45;&gt;14 -->\n",
       "<g id=\"edge7\" class=\"edge\">\n",
       "<title>4&#45;&gt;14</title>\n",
       "<path fill=\"none\" stroke=\"#000000\" d=\"M475.9664,-88.7428C483.4338,-79.8102 491.568,-70.08 499.1388,-61.0238\"/>\n",
       "<polygon fill=\"#000000\" stroke=\"#000000\" points=\"501.8874,-63.193 505.6159,-53.2759 496.5168,-58.7033 501.8874,-63.193\"/>\n",
       "</g>\n",
       "<!-- 5 -->\n",
       "<g id=\"node10\" class=\"node\">\n",
       "<title>5</title>\n",
       "<path fill=\"#e58139\" fill-opacity=\"0.792157\" stroke=\"#000000\" d=\"M813,-153C813,-153 697,-153 697,-153 691,-153 685,-147 685,-141 685,-141 685,-101 685,-101 685,-95 691,-89 697,-89 697,-89 813,-89 813,-89 819,-89 825,-95 825,-101 825,-101 825,-141 825,-141 825,-147 819,-153 813,-153\"/>\n",
       "<text text-anchor=\"start\" x=\"725\" y=\"-138.8\" font-family=\"Helvetica,sans-Serif\" font-size=\"14.00\" fill=\"#000000\">X</text>\n",
       "<text text-anchor=\"start\" x=\"735\" y=\"-138.8\" font-family=\"Helvetica,sans-Serif\" baseline-shift=\"sub\" font-size=\"14.00\" fill=\"#000000\">1</text>\n",
       "<text text-anchor=\"start\" x=\"742\" y=\"-138.8\" font-family=\"Helvetica,sans-Serif\" font-size=\"14.00\" fill=\"#000000\"> ≤ 19.5</text>\n",
       "<text text-anchor=\"start\" x=\"707.5\" y=\"-124.8\" font-family=\"Helvetica,sans-Serif\" font-size=\"14.00\" fill=\"#000000\">entropy = 0.663</text>\n",
       "<text text-anchor=\"start\" x=\"706.5\" y=\"-110.8\" font-family=\"Helvetica,sans-Serif\" font-size=\"14.00\" fill=\"#000000\">samples = 6341</text>\n",
       "<text text-anchor=\"start\" x=\"693\" y=\"-96.8\" font-family=\"Helvetica,sans-Serif\" font-size=\"14.00\" fill=\"#000000\">value = [5248, 1093]</text>\n",
       "</g>\n",
       "<!-- 2&#45;&gt;5 -->\n",
       "<g id=\"edge9\" class=\"edge\">\n",
       "<title>2&#45;&gt;5</title>\n",
       "<path fill=\"none\" stroke=\"#000000\" d=\"M755,-188.8089C755,-180.6906 755,-171.8517 755,-163.3186\"/>\n",
       "<polygon fill=\"#000000\" stroke=\"#000000\" points=\"758.5001,-163.1307 755,-153.1308 751.5001,-163.1308 758.5001,-163.1307\"/>\n",
       "</g>\n",
       "<!-- 6 -->\n",
       "<g id=\"node13\" class=\"node\">\n",
       "<title>6</title>\n",
       "<path fill=\"#e58139\" fill-opacity=\"0.635294\" stroke=\"#000000\" d=\"M1044,-153C1044,-153 928,-153 928,-153 922,-153 916,-147 916,-141 916,-141 916,-101 916,-101 916,-95 922,-89 928,-89 928,-89 1044,-89 1044,-89 1050,-89 1056,-95 1056,-101 1056,-101 1056,-141 1056,-141 1056,-147 1050,-153 1044,-153\"/>\n",
       "<text text-anchor=\"start\" x=\"956\" y=\"-138.8\" font-family=\"Helvetica,sans-Serif\" font-size=\"14.00\" fill=\"#000000\">X</text>\n",
       "<text text-anchor=\"start\" x=\"966\" y=\"-138.8\" font-family=\"Helvetica,sans-Serif\" baseline-shift=\"sub\" font-size=\"14.00\" fill=\"#000000\">1</text>\n",
       "<text text-anchor=\"start\" x=\"973\" y=\"-138.8\" font-family=\"Helvetica,sans-Serif\" font-size=\"14.00\" fill=\"#000000\"> ≤ 14.5</text>\n",
       "<text text-anchor=\"start\" x=\"938.5\" y=\"-124.8\" font-family=\"Helvetica,sans-Serif\" font-size=\"14.00\" fill=\"#000000\">entropy = 0.838</text>\n",
       "<text text-anchor=\"start\" x=\"933.5\" y=\"-110.8\" font-family=\"Helvetica,sans-Serif\" font-size=\"14.00\" fill=\"#000000\">samples = 10191</text>\n",
       "<text text-anchor=\"start\" x=\"924\" y=\"-96.8\" font-family=\"Helvetica,sans-Serif\" font-size=\"14.00\" fill=\"#000000\">value = [7467, 2724]</text>\n",
       "</g>\n",
       "<!-- 2&#45;&gt;6 -->\n",
       "<g id=\"edge12\" class=\"edge\">\n",
       "<title>2&#45;&gt;6</title>\n",
       "<path fill=\"none\" stroke=\"#000000\" d=\"M828.725,-189.0844C853.4291,-178.39 881.08,-166.4199 906.2251,-155.5346\"/>\n",
       "<polygon fill=\"#000000\" stroke=\"#000000\" points=\"907.9417,-158.6054 915.7282,-151.4207 905.1607,-152.1815 907.9417,-158.6054\"/>\n",
       "</g>\n",
       "<!-- 11 -->\n",
       "<g id=\"node11\" class=\"node\">\n",
       "<title>11</title>\n",
       "<path fill=\"#e58139\" fill-opacity=\"0.827451\" stroke=\"#000000\" d=\"M736,-53C736,-53 628,-53 628,-53 622,-53 616,-47 616,-41 616,-41 616,-12 616,-12 616,-6 622,0 628,0 628,0 736,0 736,0 742,0 748,-6 748,-12 748,-12 748,-41 748,-41 748,-47 742,-53 736,-53\"/>\n",
       "<text text-anchor=\"start\" x=\"634.5\" y=\"-37.8\" font-family=\"Helvetica,sans-Serif\" font-size=\"14.00\" fill=\"#000000\">entropy = 0.603</text>\n",
       "<text text-anchor=\"start\" x=\"633.5\" y=\"-22.8\" font-family=\"Helvetica,sans-Serif\" font-size=\"14.00\" fill=\"#000000\">samples = 4596</text>\n",
       "<text text-anchor=\"start\" x=\"624\" y=\"-7.8\" font-family=\"Helvetica,sans-Serif\" font-size=\"14.00\" fill=\"#000000\">value = [3919, 677]</text>\n",
       "</g>\n",
       "<!-- 5&#45;&gt;11 -->\n",
       "<g id=\"edge10\" class=\"edge\">\n",
       "<title>5&#45;&gt;11</title>\n",
       "<path fill=\"none\" stroke=\"#000000\" d=\"M730.0817,-88.7428C723.2511,-79.9004 715.8168,-70.2765 708.8814,-61.2985\"/>\n",
       "<polygon fill=\"#000000\" stroke=\"#000000\" points=\"711.5672,-59.05 702.684,-53.2759 706.0275,-63.3293 711.5672,-59.05\"/>\n",
       "</g>\n",
       "<!-- 12 -->\n",
       "<g id=\"node12\" class=\"node\">\n",
       "<title>12</title>\n",
       "<path fill=\"#e58139\" fill-opacity=\"0.686275\" stroke=\"#000000\" d=\"M886,-53C886,-53 778,-53 778,-53 772,-53 766,-47 766,-41 766,-41 766,-12 766,-12 766,-6 772,0 778,0 778,0 886,0 886,0 892,0 898,-6 898,-12 898,-12 898,-41 898,-41 898,-47 892,-53 886,-53\"/>\n",
       "<text text-anchor=\"start\" x=\"784.5\" y=\"-37.8\" font-family=\"Helvetica,sans-Serif\" font-size=\"14.00\" fill=\"#000000\">entropy = 0.792</text>\n",
       "<text text-anchor=\"start\" x=\"783.5\" y=\"-22.8\" font-family=\"Helvetica,sans-Serif\" font-size=\"14.00\" fill=\"#000000\">samples = 1745</text>\n",
       "<text text-anchor=\"start\" x=\"774\" y=\"-7.8\" font-family=\"Helvetica,sans-Serif\" font-size=\"14.00\" fill=\"#000000\">value = [1329, 416]</text>\n",
       "</g>\n",
       "<!-- 5&#45;&gt;12 -->\n",
       "<g id=\"edge11\" class=\"edge\">\n",
       "<title>5&#45;&gt;12</title>\n",
       "<path fill=\"none\" stroke=\"#000000\" d=\"M781.2837,-88.7428C788.4886,-79.9004 796.3302,-70.2765 803.6457,-61.2985\"/>\n",
       "<polygon fill=\"#000000\" stroke=\"#000000\" points=\"806.5792,-63.2391 810.1826,-53.2759 801.1525,-58.8174 806.5792,-63.2391\"/>\n",
       "</g>\n",
       "<!-- 7 -->\n",
       "<g id=\"node14\" class=\"node\">\n",
       "<title>7</title>\n",
       "<path fill=\"#e58139\" fill-opacity=\"0.705882\" stroke=\"#000000\" d=\"M1044,-53C1044,-53 928,-53 928,-53 922,-53 916,-47 916,-41 916,-41 916,-12 916,-12 916,-6 922,0 928,0 928,0 1044,0 1044,0 1050,0 1056,-6 1056,-12 1056,-12 1056,-41 1056,-41 1056,-47 1050,-53 1044,-53\"/>\n",
       "<text text-anchor=\"start\" x=\"938.5\" y=\"-37.8\" font-family=\"Helvetica,sans-Serif\" font-size=\"14.00\" fill=\"#000000\">entropy = 0.772</text>\n",
       "<text text-anchor=\"start\" x=\"937.5\" y=\"-22.8\" font-family=\"Helvetica,sans-Serif\" font-size=\"14.00\" fill=\"#000000\">samples = 6109</text>\n",
       "<text text-anchor=\"start\" x=\"924\" y=\"-7.8\" font-family=\"Helvetica,sans-Serif\" font-size=\"14.00\" fill=\"#000000\">value = [4726, 1383]</text>\n",
       "</g>\n",
       "<!-- 6&#45;&gt;7 -->\n",
       "<g id=\"edge13\" class=\"edge\">\n",
       "<title>6&#45;&gt;7</title>\n",
       "<path fill=\"none\" stroke=\"#000000\" d=\"M986,-88.7428C986,-80.6222 986,-71.8426 986,-63.5093\"/>\n",
       "<polygon fill=\"#000000\" stroke=\"#000000\" points=\"989.5001,-63.2758 986,-53.2759 982.5001,-63.2759 989.5001,-63.2758\"/>\n",
       "</g>\n",
       "<!-- 8 -->\n",
       "<g id=\"node15\" class=\"node\">\n",
       "<title>8</title>\n",
       "<path fill=\"#e58139\" fill-opacity=\"0.509804\" stroke=\"#000000\" d=\"M1202,-53C1202,-53 1086,-53 1086,-53 1080,-53 1074,-47 1074,-41 1074,-41 1074,-12 1074,-12 1074,-6 1080,0 1086,0 1086,0 1202,0 1202,0 1208,0 1214,-6 1214,-12 1214,-12 1214,-41 1214,-41 1214,-47 1208,-53 1202,-53\"/>\n",
       "<text text-anchor=\"start\" x=\"1096.5\" y=\"-37.8\" font-family=\"Helvetica,sans-Serif\" font-size=\"14.00\" fill=\"#000000\">entropy = 0.913</text>\n",
       "<text text-anchor=\"start\" x=\"1095.5\" y=\"-22.8\" font-family=\"Helvetica,sans-Serif\" font-size=\"14.00\" fill=\"#000000\">samples = 4082</text>\n",
       "<text text-anchor=\"start\" x=\"1082\" y=\"-7.8\" font-family=\"Helvetica,sans-Serif\" font-size=\"14.00\" fill=\"#000000\">value = [2741, 1341]</text>\n",
       "</g>\n",
       "<!-- 6&#45;&gt;8 -->\n",
       "<g id=\"edge14\" class=\"edge\">\n",
       "<title>6&#45;&gt;8</title>\n",
       "<path fill=\"none\" stroke=\"#000000\" d=\"M1039.9327,-88.7428C1056.3008,-78.953 1074.2705,-68.2053 1090.6032,-58.4367\"/>\n",
       "<polygon fill=\"#000000\" stroke=\"#000000\" points=\"1092.7024,-61.2595 1099.4879,-53.1227 1089.1093,-55.252 1092.7024,-61.2595\"/>\n",
       "</g>\n",
       "</g>\n",
       "</svg>\n"
      ],
      "text/plain": [
       "<graphviz.files.Source at 0x7f7a2dbf0860>"
      ]
     },
     "execution_count": 72,
     "metadata": {},
     "output_type": "execute_result"
    }
   ],
   "source": [
    "from sklearn import tree\n",
    "import graphviz \n",
    "X = customers.iloc[:,2:8]  #independent features\n",
    "Y = customers.iloc[:,-1]   #target feature: class\n",
    "\n",
    "clf = tree.DecisionTreeClassifier(criterion=\"entropy\", max_depth=2, max_leaf_nodes=8)\n",
    "clf = clf.fit(X, Y)\n",
    "\n",
    "dot_data = tree.export_graphviz(clf, out_file=None,  \n",
    "                     filled=True, rounded=True,  \n",
    "                     special_characters=True)  \n",
    "graph = graphviz.Source(dot_data)  \n",
    "graph "
   ]
  },
  {
   "cell_type": "code",
   "execution_count": 85,
   "metadata": {},
   "outputs": [
    {
     "data": {
      "text/plain": [
       "SVC(C=1.0, cache_size=200, class_weight=None, coef0=0.0,\n",
       "  decision_function_shape='ovr', degree=3, gamma='scale', kernel='rbf',\n",
       "  max_iter=-1, probability=False, random_state=None, shrinking=True,\n",
       "  tol=0.001, verbose=False)"
      ]
     },
     "execution_count": 85,
     "metadata": {},
     "output_type": "execute_result"
    }
   ],
   "source": [
    "from sklearn import svm\n",
    "X = customers.iloc[:,1:8]  #independent features\n",
    "Y = customers.iloc[:,-1]   #target feature: class\n",
    "clf = svm.SVC(gamma='scale')\n",
    "clf.fit(X, y)\n",
    "clf"
   ]
  },
  {
   "cell_type": "code",
   "execution_count": 110,
   "metadata": {},
   "outputs": [
    {
     "data": {
      "text/plain": [
       "array([0, 0, 0, 0, 0, 0, 0, 0, 0, 0, 0, 0, 0, 0, 0, 0, 0, 0, 0, 0, 0, 0,\n",
       "       0, 0, 0, 0, 0, 0, 0, 0, 0, 0, 0, 0, 0, 0, 0, 0, 0, 0, 0, 0, 0, 0,\n",
       "       0, 0, 0, 0, 0, 0, 0, 0, 0, 0, 0, 0, 0, 0, 0, 0, 0, 0, 1, 0, 0, 0,\n",
       "       0, 0, 0, 0, 0, 0, 0, 0, 0, 1, 0, 0, 0, 0, 0, 0, 1, 0, 0, 0, 0, 0,\n",
       "       0, 0, 0, 0, 0, 0, 0, 0, 0, 0, 0])"
      ]
     },
     "execution_count": 110,
     "metadata": {},
     "output_type": "execute_result"
    }
   ],
   "source": [
    "clf.predict(customers.iloc[1:100,1:8])\n"
   ]
  },
  {
   "cell_type": "code",
   "execution_count": 116,
   "metadata": {},
   "outputs": [
    {
     "data": {
      "text/plain": [
       "lifespan          6124267.000\n",
       "lifetime_spend         10.012\n",
       "lifetime_trans          3.000\n",
       "fav_country             1.000\n",
       "fav_paymethod           1.000\n",
       "freq_growth             0.000\n",
       "trans_growth            1.000\n",
       "Name: 0070b60b524685d21a1c5f9dd, dtype: float64"
      ]
     },
     "execution_count": 116,
     "metadata": {},
     "output_type": "execute_result"
    }
   ],
   "source": [
    "customers.iloc[62,1:8]"
   ]
  },
  {
   "cell_type": "code",
   "execution_count": null,
   "metadata": {},
   "outputs": [],
   "source": []
  }
 ],
 "metadata": {
  "kernelspec": {
   "display_name": "Python 3",
   "language": "python",
   "name": "python3"
  },
  "language_info": {
   "codemirror_mode": {
    "name": "ipython",
    "version": 3
   },
   "file_extension": ".py",
   "mimetype": "text/x-python",
   "name": "python",
   "nbconvert_exporter": "python",
   "pygments_lexer": "ipython3",
   "version": "3.7.1"
  }
 },
 "nbformat": 4,
 "nbformat_minor": 2
}
