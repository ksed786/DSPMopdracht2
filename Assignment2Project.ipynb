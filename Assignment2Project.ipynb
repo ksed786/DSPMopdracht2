{
 "cells": [
  {
   "cell_type": "code",
   "execution_count": 3,
   "metadata": {},
   "outputs": [],
   "source": [
    "#Import csv file from DSPM website, label column names and parse date format:\n",
    "import pandas as pd\n",
    "import datetime as dt\n",
    "import seaborn as sns\n",
    "import numpy as np\n",
    "from sklearn.feature_selection import SelectKBest\n",
    "from sklearn.feature_selection import chi2\n",
    "from sklearn.ensemble import ExtraTreesClassifier\n",
    "import matplotlib.pyplot as plt\n",
    "sales=pd.read_csv(\"http://liacs.leidenuniv.nl/~takesfw/DSPM/data/sales.csv\", names=[\"saleId\", \"saleDateTime\", \"accountName\", \"coins\", \"currency\", \"priceInCurrency\", \"priceInEUR\", \"methodId\", \"ip\", \"ipCountry\"], parse_dates=[\"saleDateTime\"])"
   ]
  },
  {
   "cell_type": "code",
   "execution_count": 4,
   "metadata": {},
   "outputs": [],
   "source": [
    "#Sort original csv file dates\n",
    "sales = sales.sort_values([\"saleDateTime\"])\n",
    "split1 = sales['saleDateTime'] < '2014-01-01 00:00:00'\n",
    "sales14 = sales[split1]\n",
    "split2 = sales['saleDateTime'] > '2013-12-31 23:59:59'\n",
    "sales15 = sales[split2]"
   ]
  },
  {
   "cell_type": "code",
   "execution_count": 5,
   "metadata": {},
   "outputs": [],
   "source": [
    "#Define function that returns boolean that shows if frequenty of purchases goes up\n",
    "def func(x):\n",
    "    q = True\n",
    "    if x.iloc[0]['First'] < x.iloc[0]['Last']:\n",
    "        q = False\n",
    "    \n",
    "    return q"
   ]
  },
  {
   "cell_type": "code",
   "execution_count": 6,
   "metadata": {},
   "outputs": [],
   "source": [
    "#Favorite Countries:\n",
    "sales[\"ipCountry\"].value_counts().head(5)\n",
    "fav_countries = [\"FR\",\"DE\",\"PL\",\"GP\",\"NL\"]\n",
    "sales[\"methodId\"].value_counts().head(3)\n",
    "fav_paymethods = [2000,1000,40]"
   ]
  },
  {
   "cell_type": "code",
   "execution_count": 7,
   "metadata": {},
   "outputs": [],
   "source": [
    "#Create 'customers' DF\n",
    "customers = pd.DataFrame()\n",
    "#First feature\n",
    "customers['countries'] = sales14.groupby(\"accountName\")[\"ipCountry\"].nunique()"
   ]
  },
  {
   "cell_type": "code",
   "execution_count": 8,
   "metadata": {},
   "outputs": [],
   "source": [
    "#Second feature\n",
    "customers['lifespan'] = sales14.groupby(\"accountName\")[\"saleDateTime\"].max() - sales14.groupby(\"accountName\")[\"saleDateTime\"].min()\n",
    "customers['lifespan'] = customers[\"lifespan\"].dt.total_seconds()\n"
   ]
  },
  {
   "cell_type": "code",
   "execution_count": 9,
   "metadata": {},
   "outputs": [],
   "source": [
    "#Third feature\n",
    "customers['lifetime_spend'] = sales14.groupby(\"accountName\")[\"priceInEUR\"].sum()"
   ]
  },
  {
   "cell_type": "code",
   "execution_count": 10,
   "metadata": {},
   "outputs": [],
   "source": [
    "#Fourth feature\n",
    "customers['lifetime_trans'] = sales14.groupby(\"accountName\")[\"saleId\"].nunique()"
   ]
  },
  {
   "cell_type": "code",
   "execution_count": 11,
   "metadata": {},
   "outputs": [],
   "source": [
    "#Fifth feature\n",
    "tempx = sales14.groupby(\"accountName\")[\"ipCountry\"].value_counts()\n",
    "temp5 = tempx.groupby(\"accountName\").idxmax()\n",
    "\n",
    "customers['fav_country'] = pd.Series({item[0]: item[1] for item in temp5}).isin(fav_countries)\n",
    "customers['fav_country'] = customers['fav_country'].fillna(0)\n",
    "customers['fav_country'] = customers['fav_country'].astype(int)"
   ]
  },
  {
   "cell_type": "code",
   "execution_count": 12,
   "metadata": {},
   "outputs": [],
   "source": [
    "#Sixth feature\n",
    "tempy = sales14.groupby(\"accountName\")[\"methodId\"].value_counts()\n",
    "temp6 = tempy.groupby(\"accountName\").idxmax()\n",
    "customers['fav_paymethod'] = pd.Series({item[0]: item[1] for item in temp6}).isin(fav_paymethods)\n",
    "customers['fav_paymethod'] = customers['fav_paymethod'].fillna(0)\n",
    "customers['fav_paymethod'] = customers['fav_paymethod'].astype(int)"
   ]
  },
  {
   "cell_type": "code",
   "execution_count": 13,
   "metadata": {},
   "outputs": [],
   "source": [
    "#Seventh feature\n",
    "first = sales14.groupby(\"accountName\")[\"saleDateTime\"].nsmallest(2)\n",
    "last = sales14.groupby(\"accountName\")[\"saleDateTime\"].nlargest(2)\n",
    "df = pd.DataFrame()\n",
    "df['First'] = abs(first.diff().reset_index().groupby(\"accountName\").tail(1).set_index(\"accountName\")[\"saleDateTime\"].dt.days)\n",
    "df['Last'] = abs(last.diff().reset_index().groupby(\"accountName\").tail(1).set_index(\"accountName\")[\"saleDateTime\"].dt.days)\n",
    "customers[\"freq_growth\"] = df.groupby(\"accountName\").apply(func)\n",
    "customers[\"freq_growth\"] = customers[\"freq_growth\"].astype(int)"
   ]
  },
  {
   "cell_type": "code",
   "execution_count": 14,
   "metadata": {},
   "outputs": [],
   "source": [
    "#Eighth feature\n",
    "trans_growth = {}\n",
    "for account, group in sales14.groupby('accountName')[\"priceInEUR\"]:\n",
    "    if group.shape[0] >= 2:\n",
    "        trans_growth[account] = group.head(2).sum() < group.tail(2).sum()\n",
    "customers[\"trans_growth\"] = pd.Series(trans_growth)\n",
    "\n",
    "customers[\"trans_growth\"] = customers[\"trans_growth\"].fillna(0)\n",
    "customers[\"trans_growth\"] = customers[\"trans_growth\"].astype(int)"
   ]
  },
  {
   "cell_type": "code",
   "execution_count": 15,
   "metadata": {},
   "outputs": [],
   "source": [
    "#Class feature: Does the customer return, set all to false\n",
    "loyal = {}\n",
    "customers[\"class\"] = True\n",
    "for account, group in customers.groupby('accountName')[\"class\"]:\n",
    "    if (account in sales15[\"accountName\"].values):\n",
    "        loyal[account] = True\n",
    "    else:\n",
    "        loyal[account] = False\n",
    "customers[\"class\"] = pd.Series(loyal)\n",
    "customers[\"class\"] = customers[\"class\"].astype(int)"
   ]
  },
  {
   "cell_type": "code",
   "execution_count": 36,
   "metadata": {},
   "outputs": [
    {
     "data": {
      "text/html": [
       "<div>\n",
       "<style scoped>\n",
       "    .dataframe tbody tr th:only-of-type {\n",
       "        vertical-align: middle;\n",
       "    }\n",
       "\n",
       "    .dataframe tbody tr th {\n",
       "        vertical-align: top;\n",
       "    }\n",
       "\n",
       "    .dataframe thead th {\n",
       "        text-align: right;\n",
       "    }\n",
       "</style>\n",
       "<table border=\"1\" class=\"dataframe\">\n",
       "  <thead>\n",
       "    <tr style=\"text-align: right;\">\n",
       "      <th></th>\n",
       "      <th>countries</th>\n",
       "      <th>lifespan</th>\n",
       "      <th>lifetime_spend</th>\n",
       "      <th>lifetime_trans</th>\n",
       "      <th>fav_country</th>\n",
       "      <th>fav_paymethod</th>\n",
       "      <th>freq_growth</th>\n",
       "      <th>trans_growth</th>\n",
       "      <th>class</th>\n",
       "    </tr>\n",
       "  </thead>\n",
       "  <tbody>\n",
       "    <tr>\n",
       "      <th>countries</th>\n",
       "      <td>1.000000</td>\n",
       "      <td>0.120854</td>\n",
       "      <td>0.161716</td>\n",
       "      <td>0.294982</td>\n",
       "      <td>0.001643</td>\n",
       "      <td>0.070054</td>\n",
       "      <td>-0.077231</td>\n",
       "      <td>0.143533</td>\n",
       "      <td>0.074937</td>\n",
       "    </tr>\n",
       "    <tr>\n",
       "      <th>lifespan</th>\n",
       "      <td>0.120854</td>\n",
       "      <td>1.000000</td>\n",
       "      <td>0.452776</td>\n",
       "      <td>0.344214</td>\n",
       "      <td>0.018446</td>\n",
       "      <td>-0.010099</td>\n",
       "      <td>-0.106917</td>\n",
       "      <td>0.215608</td>\n",
       "      <td>0.195295</td>\n",
       "    </tr>\n",
       "    <tr>\n",
       "      <th>lifetime_spend</th>\n",
       "      <td>0.161716</td>\n",
       "      <td>0.452776</td>\n",
       "      <td>1.000000</td>\n",
       "      <td>0.654994</td>\n",
       "      <td>0.012161</td>\n",
       "      <td>-0.038620</td>\n",
       "      <td>-0.104264</td>\n",
       "      <td>0.209986</td>\n",
       "      <td>0.123900</td>\n",
       "    </tr>\n",
       "    <tr>\n",
       "      <th>lifetime_trans</th>\n",
       "      <td>0.294982</td>\n",
       "      <td>0.344214</td>\n",
       "      <td>0.654994</td>\n",
       "      <td>1.000000</td>\n",
       "      <td>0.015811</td>\n",
       "      <td>0.087585</td>\n",
       "      <td>-0.136387</td>\n",
       "      <td>0.196263</td>\n",
       "      <td>0.157330</td>\n",
       "    </tr>\n",
       "    <tr>\n",
       "      <th>fav_country</th>\n",
       "      <td>0.001643</td>\n",
       "      <td>0.018446</td>\n",
       "      <td>0.012161</td>\n",
       "      <td>0.015811</td>\n",
       "      <td>1.000000</td>\n",
       "      <td>-0.102098</td>\n",
       "      <td>0.002590</td>\n",
       "      <td>0.059717</td>\n",
       "      <td>0.084557</td>\n",
       "    </tr>\n",
       "    <tr>\n",
       "      <th>fav_paymethod</th>\n",
       "      <td>0.070054</td>\n",
       "      <td>-0.010099</td>\n",
       "      <td>-0.038620</td>\n",
       "      <td>0.087585</td>\n",
       "      <td>-0.102098</td>\n",
       "      <td>1.000000</td>\n",
       "      <td>-0.040901</td>\n",
       "      <td>0.018092</td>\n",
       "      <td>0.052796</td>\n",
       "    </tr>\n",
       "    <tr>\n",
       "      <th>freq_growth</th>\n",
       "      <td>-0.077231</td>\n",
       "      <td>-0.106917</td>\n",
       "      <td>-0.104264</td>\n",
       "      <td>-0.136387</td>\n",
       "      <td>0.002590</td>\n",
       "      <td>-0.040901</td>\n",
       "      <td>1.000000</td>\n",
       "      <td>-0.149283</td>\n",
       "      <td>-0.032929</td>\n",
       "    </tr>\n",
       "    <tr>\n",
       "      <th>trans_growth</th>\n",
       "      <td>0.143533</td>\n",
       "      <td>0.215608</td>\n",
       "      <td>0.209986</td>\n",
       "      <td>0.196263</td>\n",
       "      <td>0.059717</td>\n",
       "      <td>0.018092</td>\n",
       "      <td>-0.149283</td>\n",
       "      <td>1.000000</td>\n",
       "      <td>0.105978</td>\n",
       "    </tr>\n",
       "    <tr>\n",
       "      <th>class</th>\n",
       "      <td>0.074937</td>\n",
       "      <td>0.195295</td>\n",
       "      <td>0.123900</td>\n",
       "      <td>0.157330</td>\n",
       "      <td>0.084557</td>\n",
       "      <td>0.052796</td>\n",
       "      <td>-0.032929</td>\n",
       "      <td>0.105978</td>\n",
       "      <td>1.000000</td>\n",
       "    </tr>\n",
       "  </tbody>\n",
       "</table>\n",
       "</div>"
      ],
      "text/plain": [
       "                countries  lifespan  lifetime_spend  lifetime_trans  \\\n",
       "countries        1.000000  0.120854        0.161716        0.294982   \n",
       "lifespan         0.120854  1.000000        0.452776        0.344214   \n",
       "lifetime_spend   0.161716  0.452776        1.000000        0.654994   \n",
       "lifetime_trans   0.294982  0.344214        0.654994        1.000000   \n",
       "fav_country      0.001643  0.018446        0.012161        0.015811   \n",
       "fav_paymethod    0.070054 -0.010099       -0.038620        0.087585   \n",
       "freq_growth     -0.077231 -0.106917       -0.104264       -0.136387   \n",
       "trans_growth     0.143533  0.215608        0.209986        0.196263   \n",
       "class            0.074937  0.195295        0.123900        0.157330   \n",
       "\n",
       "                fav_country  fav_paymethod  freq_growth  trans_growth  \\\n",
       "countries          0.001643       0.070054    -0.077231      0.143533   \n",
       "lifespan           0.018446      -0.010099    -0.106917      0.215608   \n",
       "lifetime_spend     0.012161      -0.038620    -0.104264      0.209986   \n",
       "lifetime_trans     0.015811       0.087585    -0.136387      0.196263   \n",
       "fav_country        1.000000      -0.102098     0.002590      0.059717   \n",
       "fav_paymethod     -0.102098       1.000000    -0.040901      0.018092   \n",
       "freq_growth        0.002590      -0.040901     1.000000     -0.149283   \n",
       "trans_growth       0.059717       0.018092    -0.149283      1.000000   \n",
       "class              0.084557       0.052796    -0.032929      0.105978   \n",
       "\n",
       "                   class  \n",
       "countries       0.074937  \n",
       "lifespan        0.195295  \n",
       "lifetime_spend  0.123900  \n",
       "lifetime_trans  0.157330  \n",
       "fav_country     0.084557  \n",
       "fav_paymethod   0.052796  \n",
       "freq_growth    -0.032929  \n",
       "trans_growth    0.105978  \n",
       "class           1.000000  "
      ]
     },
     "execution_count": 36,
     "metadata": {},
     "output_type": "execute_result"
    },
    {
     "data": {
      "image/png": "[encoded data removed]",
      "text/plain": [
       "<Figure size 432x288 with 2 Axes>"
      ]
     },
     "metadata": {
      "needs_background": "light"
     },
     "output_type": "display_data"
    }
   ],
   "source": [
    "#Finding the 'best' features, based on insight of a correlation matrix, Chi squared method and inbuilt class feature_importances of tree based classifiers\n",
    "#First correlation matrix\n",
    "corr = customers.corr()\n",
    "sns.heatmap(corr, \n",
    "            xticklabels=corr.columns.values,\n",
    "            yticklabels=corr.columns.values,vmin=-1,vmax=1,cmap=\"RdBu\")\n",
    "corr"
   ]
  },
  {
   "cell_type": "code",
   "execution_count": 37,
   "metadata": {},
   "outputs": [
    {
     "name": "stdout",
     "output_type": "stream",
     "text": [
      "            Specs         Score\n",
      "1        lifespan  4.658707e+10\n",
      "2  lifetime_spend  1.954931e+05\n",
      "3  lifetime_trans  4.831898e+04\n"
     ]
    }
   ],
   "source": [
    "#Secondly show best features based on Chi2 selector\n",
    "data = customers\n",
    "X = customers.iloc[:,0:8]  #independent features\n",
    "Y = customers.iloc[:,-1]   #target feature: class\n",
    "#apply SelectKBest class to extract top 3 best features\n",
    "bestfeatures = SelectKBest(score_func=chi2, k=3)\n",
    "fit = bestfeatures.fit(X,Y)\n",
    "dfscores = pd.DataFrame(fit.scores_)\n",
    "dfcolumns = pd.DataFrame(X.columns)\n",
    "#concat two dataframes for better visualization \n",
    "featureScores = pd.concat([dfcolumns,dfscores],axis=1)\n",
    "featureScores.columns = ['Specs','Score']  #naming the dataframe columns\n",
    "print(featureScores.nlargest(3,'Score'))  #print 3 best features\n"
   ]
  },
  {
   "cell_type": "code",
   "execution_count": 180,
   "metadata": {},
   "outputs": [
    {
     "name": "stderr",
     "output_type": "stream",
     "text": [
      "/home/twumi/anaconda3/lib/python3.7/site-packages/sklearn/linear_model/logistic.py:433: FutureWarning: Default solver will be changed to 'lbfgs' in 0.22. Specify a solver to silence this warning.\n",
      "  FutureWarning)\n"
     ]
    },
    {
     "data": {
      "text/plain": [
       "LogisticRegression(C=1.0, class_weight=None, dual=False, fit_intercept=True,\n",
       "          intercept_scaling=1, max_iter=100, multi_class='warn',\n",
       "          n_jobs=None, penalty='l2', random_state=None, solver='warn',\n",
       "          tol=0.0001, verbose=0, warm_start=False)"
      ]
     },
     "execution_count": 180,
     "metadata": {},
     "output_type": "execute_result"
    }
   ],
   "source": [
    "from sklearn.model_selection import train_test_split\n",
    "from sklearn.linear_model import LogisticRegression\n",
    "X = customers.iloc[:,0:7]  #best features\n",
    "\n",
    "\n",
    "X_train, X_test, y_train, y_test = train_test_split(X,Y,test_size=0.2)\n",
    "\n",
    "model = LogisticRegression()\n",
    "model.fit(X_train,y_train)"
   ]
  },
  {
   "cell_type": "code",
   "execution_count": 181,
   "metadata": {},
   "outputs": [
    {
     "data": {
      "text/plain": [
       "array([0, 0, 0, ..., 0, 0, 0])"
      ]
     },
     "execution_count": 181,
     "metadata": {},
     "output_type": "execute_result"
    }
   ],
   "source": [
    "model.predict(X_test)"
   ]
  },
  {
   "cell_type": "code",
   "execution_count": 182,
   "metadata": {},
   "outputs": [
    {
     "data": {
      "text/plain": [
       "0.866558089033659"
      ]
     },
     "execution_count": 182,
     "metadata": {},
     "output_type": "execute_result"
    }
   ],
   "source": [
    "model.score(X_test,y_test)"
   ]
  },
  {
   "cell_type": "code",
   "execution_count": 57,
   "metadata": {},
   "outputs": [
    {
     "data": {
      "text/plain": [
       "array([[0.50682167, 0.49317833],\n",
       "       [0.70501093, 0.29498907],\n",
       "       [0.5       , 0.5       ],\n",
       "       ...,\n",
       "       [0.5       , 0.5       ],\n",
       "       [0.5       , 0.5       ],\n",
       "       [0.5       , 0.5       ]])"
      ]
     },
     "execution_count": 57,
     "metadata": {},
     "output_type": "execute_result"
    }
   ],
   "source": [
    "model.predict_proba(X_test)"
   ]
  },
  {
   "cell_type": "markdown",
   "metadata": {},
   "source": [
    "#Show best features based on the scilearn inbuilt feature importance classifier\n",
    "model = ExtraTreesClassifier()\n",
    "model\n",
    "model.fit(X,Y)\n",
    "print(model.feature_importances_) #use inbuilt class feature_importances of tree based classifiers\n",
    "#plot graph of feature importances for better visualization\n",
    "feat_importances = pd.Series(model.feature_importances_, index=X.columns)\n",
    "ax = feat_importances.nlargest(3).plot(kind='barh')\n",
    "ax.set(xlabel=\"Score (0 to 1)\", ylabel=\"Feature Name\")\n",
    "plt.show()"
   ]
  },
  {
   "cell_type": "markdown",
   "metadata": {},
   "source": [
    "from time import time\n",
    "import numpy as np\n",
    "import matplotlib.pyplot as plt\n",
    "\n",
    "from sklearn import linear_model\n",
    "from sklearn import datasets\n",
    "from sklearn.svm import l1_min_c\n",
    "\n",
    "#set data to most important\n",
    "X = customers.iloc[:,1:4]  #independent features\n",
    "y = customers.iloc[:,-1]   #target feature: class\n",
    "\n",
    "X /= X.max()  # Normalize X to speed-up convergence\n",
    "\n",
    "cs = l1_min_c(X, Y, loss='log') * np.logspace(0, 7, 16)\n",
    "\n",
    "\n",
    "print(\"Computing regularization path ...\")\n",
    "start = time()\n",
    "clf = linear_model.LogisticRegression(penalty='l1', solver='saga',\n",
    "                                      tol=1e-6, max_iter=int(1e6),\n",
    "                                      warm_start=True)\n",
    "coefs_ = []\n",
    "for c in cs:\n",
    "    clf.set_params(C=c)\n",
    "    clf.fit(X, y)\n",
    "    coefs_.append(clf.coef_.ravel().copy())\n",
    "print(\"This took %0.3fs\" % (time() - start))\n",
    "\n",
    "coefs_ = np.array(coefs_)\n",
    "plt.plot(np.log10(cs), coefs_, marker='o')\n",
    "ymin, ymax = plt.ylim()\n",
    "plt.xlabel('log(C)')\n",
    "plt.ylabel('Coefficients')\n",
    "plt.title('Logistic Regression Path')\n",
    "plt.axis('tight')\n",
    "plt.show()"
   ]
  },
  {
   "cell_type": "code",
   "execution_count": 185,
   "metadata": {},
   "outputs": [
    {
     "data": {
      "text/plain": [
       "0.8639522258414767"
      ]
     },
     "execution_count": 185,
     "metadata": {},
     "output_type": "execute_result"
    }
   ],
   "source": [
    "from sklearn import tree\n",
    "from sklearn import metrics\n",
    "from sklearn.externals.six import StringIO\n",
    "from IPython.display import Image\n",
    "\n",
    "import graphviz \n",
    "X = customers.iloc[:,0:7]  #independent features\n",
    "Y = customers.iloc[:,-1]   #target feature: class\n",
    "\n",
    "X_train, X_test, y_train, y_test = train_test_split(X,Y,test_size=0.2)\n",
    "\n",
    "\n",
    "clf = tree.DecisionTreeClassifier(criterion=\"gini\", max_leaf_nodes=8)\n",
    "clf.fit(X_train,y_train)\n",
    "y_pred = clf.predict(X_test)\n",
    "metrics.accuracy_score(y_test,y_pred)\n",
    "\n",
    "#dot_data = tree.export_graphviz(clf, out_file=None,  \n",
    "#                     filled=True, rounded=True,  \n",
    "#                     special_characters=True)  \n",
    "#graph = graphviz.Source(dot_data)  \n",
    "#graph"
   ]
  },
  {
   "cell_type": "code",
   "execution_count": null,
   "metadata": {},
   "outputs": [],
   "source": [
    "from sklearn import svm\n",
    "from sklearn.model_selection import train_test_split\n",
    "\n",
    "X = customers.iloc[0:1000,1:3]  #independent features\n",
    "y = customers.iloc[0:1000,-1]   #target feature: class\n",
    "\n",
    "X_train, X_test, y_train, y_test = train_test_split(X,y,test_size=0.2)\n",
    "\n",
    "\n",
    "model = svm.SVC(kernel='linear', C=1.0)\n",
    "model.fit(X_train,y_train)"
   ]
  },
  {
   "cell_type": "code",
   "execution_count": null,
   "metadata": {},
   "outputs": [],
   "source": [
    "model.predict(X_test)\n",
    "model.score(X_test, y_test)"
   ]
  },
  {
   "cell_type": "code",
   "execution_count": 25,
   "metadata": {},
   "outputs": [
    {
     "data": {
      "text/plain": [
       "MLPClassifier(activation='relu', alpha=0.0001, batch_size='auto', beta_1=0.9,\n",
       "       beta_2=0.999, early_stopping=False, epsilon=1e-08,\n",
       "       hidden_layer_sizes=(100,), learning_rate='constant',\n",
       "       learning_rate_init=0.001, max_iter=200, momentum=0.9,\n",
       "       n_iter_no_change=10, nesterovs_momentum=True, power_t=0.5,\n",
       "       random_state=None, shuffle=True, solver='adam', tol=0.0001,\n",
       "       validation_fraction=0.1, verbose=False, warm_start=False)"
      ]
     },
     "execution_count": 25,
     "metadata": {},
     "output_type": "execute_result"
    }
   ],
   "source": [
    "from sklearn.neural_network import MLPClassifier\n",
    "from sklearn.model_selection import train_test_split\n",
    "\n",
    "X = customers.iloc[:,0:3]  #independent features\n",
    "y = customers.iloc[:,-1]   #target feature: class\n",
    "\n",
    "X_train, X_test, y_train, y_test = train_test_split(X,y,test_size=0.2)\n",
    "\n",
    "nn=MLPClassifier()\n",
    "nn.fit(X_train,y_train)"
   ]
  },
  {
   "cell_type": "code",
   "execution_count": 22,
   "metadata": {},
   "outputs": [
    {
     "data": {
      "text/plain": [
       "array([0, 0, 0, ..., 0, 0, 0])"
      ]
     },
     "execution_count": 22,
     "metadata": {},
     "output_type": "execute_result"
    }
   ],
   "source": [
    "nn.predict(X_test)"
   ]
  },
  {
   "cell_type": "code",
   "execution_count": 24,
   "metadata": {},
   "outputs": [
    {
     "data": {
      "text/plain": [
       "0.8668838219326819"
      ]
     },
     "execution_count": 24,
     "metadata": {},
     "output_type": "execute_result"
    }
   ],
   "source": [
    "nn.score(X_test,y_test)"
   ]
  },
  {
   "cell_type": "code",
   "execution_count": null,
   "metadata": {},
   "outputs": [],
   "source": []
  },
  {
   "cell_type": "code",
   "execution_count": null,
   "metadata": {},
   "outputs": [],
   "source": []
  },
  {
   "cell_type": "code",
   "execution_count": null,
   "metadata": {},
   "outputs": [],
   "source": []
  }
 ],
 "metadata": {
  "kernelspec": {
   "display_name": "Python 3",
   "language": "python",
   "name": "python3"
  },
  "language_info": {
   "codemirror_mode": {
    "name": "ipython",
    "version": 3
   },
   "file_extension": ".py",
   "mimetype": "text/x-python",
   "name": "python",
   "nbconvert_exporter": "python",
   "pygments_lexer": "ipython3",
   "version": "3.7.1"
  }
 },
 "nbformat": 4,
 "nbformat_minor": 2
}
